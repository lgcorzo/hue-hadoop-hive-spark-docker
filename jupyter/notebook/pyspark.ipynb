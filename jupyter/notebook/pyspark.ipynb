{
 "cells": [
  {
   "cell_type": "code",
   "execution_count": 1,
   "id": "8a5fab7d",
   "metadata": {
    "pycharm": {
     "name": "#%%\n"
    }
   },
   "outputs": [],
   "source": [
    "import findspark\n"
   ]
  },
  {
   "cell_type": "code",
   "execution_count": 2,
   "id": "52921414",
   "metadata": {
    "pycharm": {
     "name": "#%%\n"
    }
   },
   "outputs": [],
   "source": [
    "from pyspark.sql import SparkSession"
   ]
  },
  {
   "cell_type": "code",
   "execution_count": 3,
   "id": "399482fb",
   "metadata": {},
   "outputs": [
    {
     "name": "stdout",
     "output_type": "stream",
     "text": [
      ":: loading settings :: url = jar:file:/opt/spark/jars/ivy-2.5.1.jar!/org/apache/ivy/core/settings/ivysettings.xml\n"
     ]
    },
    {
     "name": "stderr",
     "output_type": "stream",
     "text": [
      "Ivy Default Cache set to: /home/jupyter/.ivy2/cache\n",
      "The jars for the packages stored in: /home/jupyter/.ivy2/jars\n",
      "io.delta#delta-core_2.12 added as a dependency\n",
      ":: resolving dependencies :: org.apache.spark#spark-submit-parent-57af681e-9ecd-489b-836b-7d58cd77193e;1.0\n",
      "\tconfs: [default]\n",
      "\tfound io.delta#delta-core_2.12;2.3.0 in central\n",
      "\tfound io.delta#delta-storage;2.3.0 in central\n",
      "\tfound org.antlr#antlr4-runtime;4.8 in central\n",
      ":: resolution report :: resolve 463ms :: artifacts dl 70ms\n",
      "\t:: modules in use:\n",
      "\tio.delta#delta-core_2.12;2.3.0 from central in [default]\n",
      "\tio.delta#delta-storage;2.3.0 from central in [default]\n",
      "\torg.antlr#antlr4-runtime;4.8 from central in [default]\n",
      "\t---------------------------------------------------------------------\n",
      "\t|                  |            modules            ||   artifacts   |\n",
      "\t|       conf       | number| search|dwnlded|evicted|| number|dwnlded|\n",
      "\t---------------------------------------------------------------------\n",
      "\t|      default     |   3   |   0   |   0   |   0   ||   3   |   0   |\n",
      "\t---------------------------------------------------------------------\n",
      ":: retrieving :: org.apache.spark#spark-submit-parent-57af681e-9ecd-489b-836b-7d58cd77193e\n",
      "\tconfs: [default]\n",
      "\t0 artifacts copied, 3 already retrieved (0kB/33ms)\n",
      "Setting default log level to \"WARN\".\n",
      "To adjust logging level use sc.setLogLevel(newLevel). For SparkR, use setLogLevel(newLevel).\n"
     ]
    },
    {
     "name": "stdout",
     "output_type": "stream",
     "text": [
      "23/07/12 12:12:05 WARN Client: Same path resource file:///home/jupyter/.ivy2/jars/io.delta_delta-core_2.12-2.3.0.jar added multiple times to distributed cache.\n",
      "23/07/12 12:12:05 WARN Client: Same path resource file:///home/jupyter/.ivy2/jars/io.delta_delta-storage-2.3.0.jar added multiple times to distributed cache.\n",
      "23/07/12 12:12:05 WARN Client: Same path resource file:///home/jupyter/.ivy2/jars/org.antlr_antlr4-runtime-4.8.jar added multiple times to distributed cache.\n"
     ]
    }
   ],
   "source": [
    "from pyspark.conf import SparkConf\n",
    "from delta import configure_spark_with_delta_pip\n",
    "conf = SparkConf()\n",
    "conf.set(\"spark.driver.maxResultSize\", \"8g\")\n",
    "conf.set(\"spark.driver.memory\", \"8g\") \n",
    "conf.set(\"spark.sql.extensions\", \"io.delta.sql.DeltaSparkSessionExtension\")\n",
    "conf.set(\"spark.sql.catalog.spark_catalog\", \"org.apache.spark.sql.delta.catalog.DeltaCatalog\")\n",
    "conf.set(\"spark.sql.execution.arrow.pyspark.enabled\", \"false\")\n",
    "\n",
    "builder = SparkSession.builder.appName(\"dev_test_notebook_2\") \\\n",
    "    .enableHiveSupport()\\\n",
    "    .config(conf=conf)\n",
    "\n",
    "spark = configure_spark_with_delta_pip(builder).getOrCreate()"
   ]
  },
  {
   "cell_type": "code",
   "execution_count": null,
   "id": "55fad11f",
   "metadata": {
    "pycharm": {
     "name": "#%%\n"
    }
   },
   "outputs": [],
   "source": [
    "spark.sql(\"CREATE TABLE IF NOT EXISTS src_test2 (key INT, value STRING) USING hive\")\n",
    "spark.sql(\"LOAD DATA LOCAL INPATH '/opt/spark/examples/src/main/resources/kv1.txt' INTO TABLE src_test2\")"
   ]
  },
  {
   "cell_type": "code",
   "execution_count": null,
   "id": "2db995bd",
   "metadata": {
    "pycharm": {
     "name": "#%%\n"
    }
   },
   "outputs": [],
   "source": [
    "spark.sql(\"SELECT * FROM src_test2\").show()"
   ]
  },
  {
   "cell_type": "code",
   "execution_count": null,
   "id": "01d88f94",
   "metadata": {
    "pycharm": {
     "name": "#%%\n"
    }
   },
   "outputs": [],
   "source": [
    "spark.sql(\"SELECT COUNT(*) FROM src_test2\").show()"
   ]
  },
  {
   "cell_type": "code",
   "execution_count": null,
   "id": "636e1ccf",
   "metadata": {
    "pycharm": {
     "name": "#%%\n"
    }
   },
   "outputs": [],
   "source": [
    "sqlDF = spark.sql(\"SELECT key, value FROM src_test2 WHERE key < 10 ORDER BY key\")"
   ]
  },
  {
   "cell_type": "code",
   "execution_count": null,
   "id": "87c682d7",
   "metadata": {
    "pycharm": {
     "name": "#%%\n"
    }
   },
   "outputs": [],
   "source": [
    "stringsDS = sqlDF.rdd.map(lambda row: \"Key: %d, Value: %s\" % (row.key, row.value))\n",
    "for record in stringsDS.collect():\n",
    "    print(record)"
   ]
  },
  {
   "cell_type": "code",
   "execution_count": null,
   "id": "9987c966",
   "metadata": {
    "pycharm": {
     "name": "#%%\n"
    }
   },
   "outputs": [],
   "source": [
    "from pyspark.sql import Row\n",
    "\n",
    "Record = Row(\"key\", \"value\")\n",
    "recordsDF = spark.createDataFrame([Record(i, \"val_\" + str(i)) for i in range(1, 101)])\n",
    "recordsDF.createOrReplaceTempView(\"records\")"
   ]
  },
  {
   "cell_type": "code",
   "execution_count": null,
   "id": "3981c7d8",
   "metadata": {
    "pycharm": {
     "name": "#%%\n"
    }
   },
   "outputs": [],
   "source": [
    "spark.sql(\"SELECT * FROM records r JOIN src_test2 s ON r.key = s.key\").show()"
   ]
  },
  {
   "cell_type": "code",
   "execution_count": 4,
   "id": "743c91ab",
   "metadata": {},
   "outputs": [
    {
     "name": "stderr",
     "output_type": "stream",
     "text": [
      "                                                                                \r"
     ]
    },
    {
     "name": "stdout",
     "output_type": "stream",
     "text": [
      "23/07/12 12:13:05 WARN package: Truncated the string representation of a plan since it was too large. This behavior can be adjusted by setting 'spark.sql.debug.maxToStringFields'.\n"
     ]
    },
    {
     "name": "stderr",
     "output_type": "stream",
     "text": [
      "[Stage 9:>                                                          (0 + 1) / 1]\r"
     ]
    },
    {
     "name": "stdout",
     "output_type": "stream",
     "text": [
      "+---------------+-------------------+-------------+-----------------+--------------+-----------+--------------------+-----------------+--------------------+----------------------+---------------------+--------------------+-----------------+----------+---------------------------+--------------------+---------------+--------------+-------------------+--------------------+--------------------+\n",
      "|Part_IsAssembly|        Part_Weight|Part_RealArea|Part_ExternalArea|Part_Thickness|Part_Length|Part_RectangularArea|Part_IsFillerPart|Part_MaterialDensity|Part_RectangularWeight|Part_MarkingPerimeter| Part_ExternalWeight|Part_CutPerimeter|Part_Width|ManufacturingOrder_Quantity|     Part_WorkCenter|  Part_Material|Part_Rotations|Part_CreationMethod|           Tenant_ID|            Plant_ID|\n",
      "+---------------+-------------------+-------------+-----------------+--------------+-----------+--------------------+-----------------+--------------------+----------------------+---------------------+--------------------+-----------------+----------+---------------------------+--------------------+---------------+--------------+-------------------+--------------------+--------------------+\n",
      "|              0|            3.77428|       0.4808|           0.4808|           1.0|   610.1417|              0.4808|                0|                7.85|                3.7742|                  0.0|             3.77428|           2.7986|     788.0|                        1.0|Prima Tob Platino...|      Aluminium|1.111111111E49|                MEC|3cb9a027-3b3e-4f3...|8abe3f95-37f1-4cb...|\n",
      "|              0| 4.4650799999999995|       0.5688|           0.5688|           1.0|   721.7989|              0.5688|                0|                7.85|                4.4649|                  0.0|  4.4650799999999995|           3.0219|     788.0|                        1.0|Prima Tob Platino...|      Aluminium|1.111111111E49|                MEC|3cb9a027-3b3e-4f3...|8abe3f95-37f1-4cb...|\n",
      "|              0| 3.5780299999999996|       0.4558|           0.4558|           1.0|    565.927|              0.4576|                0|                7.85|                3.5925|                  0.0|  3.5780299999999996|           2.7303|  808.6575|                        1.0|Prima Tob Platino...|      Aluminium|1.111111111E49|                MEC|3cb9a027-3b3e-4f3...|8abe3f95-37f1-4cb...|\n",
      "|              0|            2.00332|       0.2552|           0.2552|           1.0|   323.7989|              0.2552|                0|                7.85|                 2.003|                  0.0|             2.00332|           2.2259|     788.0|                        1.0|Prima Tob Platino...|      Aluminium|1.111111111E49|                MEC|3cb9a027-3b3e-4f3...|8abe3f95-37f1-4cb...|\n",
      "|              0| 3.5780299999999996|       0.4558|           0.4558|           1.0|    565.927|              0.4576|                0|                7.85|                3.5925|                  0.0|  3.5780299999999996|           2.7303|  808.6575|                        1.0|Prima Tob Platino...|      Aluminium|1.111111111E49|                MEC|3cb9a027-3b3e-4f3...|8abe3f95-37f1-4cb...|\n",
      "|              0|            9.98677|       0.6361|           0.6399|           2.0|   893.5001|              0.7983|                0|                7.85|               12.5334|               0.7872|  10.046429999999999|           3.8078|  893.4582|                        1.0|Prima Tob Platino...|Stainless Steel|1.111111111E49|                MEC|3cb9a027-3b3e-4f3...|8abe3f95-37f1-4cb...|\n",
      "|              0|            9.98677|       0.6361|           0.6399|           2.0|   893.5001|              0.7983|                0|                7.85|               12.5334|               0.7872|  10.046429999999999|           3.8078|  893.4582|                        1.0|Prima Tob Platino...|Stainless Steel|1.111111111E49|                MEC|3cb9a027-3b3e-4f3...|8abe3f95-37f1-4cb...|\n",
      "|              0|  5.752479999999999|       0.3664|           0.3665|           2.0|     1885.0|              0.3665|                0|                7.85|                5.7548|                  0.0|   5.754049999999999|           4.3514|  194.4549|                        1.0|Prima Tob Platino...|Stainless Steel|1.111111111E49|                MEC|3cb9a027-3b3e-4f3...|8abe3f95-37f1-4cb...|\n",
      "|              0|            0.03297|       0.0014|           0.0016|           3.0|       40.0|              0.0016|                0|                7.85|                0.0377|                  0.0|0.037680000000000005|           0.2172|      40.0|                        4.0|Prima Tob Platino...|Stainless Steel|1.111111111E49|                MEC|3cb9a027-3b3e-4f3...|8abe3f95-37f1-4cb...|\n",
      "|              0|            0.03297|       0.0014|           0.0016|           3.0|       40.0|              0.0016|                0|                7.85|                0.0377|                  0.0|0.037680000000000005|           0.2173|      40.0|                        4.0|Prima Tob Platino...|Stainless Steel|1.111111111E49|                MEC|3cb9a027-3b3e-4f3...|8abe3f95-37f1-4cb...|\n",
      "|              0|            0.03297|       0.0014|           0.0016|           3.0|       40.0|              0.0016|                0|                7.85|                0.0377|                  0.0|0.037680000000000005|           0.2173|      40.0|                        4.0|Prima Tob Platino...|Stainless Steel|1.111111111E49|                MEC|3cb9a027-3b3e-4f3...|8abe3f95-37f1-4cb...|\n",
      "|              0|            2.49159|       0.1058|           0.1071|           3.0|   572.0513|              0.1181|                0|                7.85|                2.7821|                  0.0|            2.522205|           2.1693|  206.5128|                        2.0|Prima Tob Platino...|Stainless Steel|1.111111111E49|                MEC|3cb9a027-3b3e-4f3...|8abe3f95-37f1-4cb...|\n",
      "|              0|            2.49159|       0.1058|           0.1071|           3.0|   572.0513|              0.1181|                0|                7.85|                2.7821|                  0.0|            2.522205|           2.1693|  206.5128|                        2.0|Prima Tob Platino...|Stainless Steel|1.111111111E49|                MEC|3cb9a027-3b3e-4f3...|8abe3f95-37f1-4cb...|\n",
      "|              0|            2.49159|       0.1058|           0.1071|           3.0|   572.0513|              0.1181|                0|                7.85|                2.7821|                  0.0|            2.522205|           2.1693|  206.5128|                        2.0|Prima Tob Platino...|Stainless Steel|1.111111111E49|                MEC|3cb9a027-3b3e-4f3...|8abe3f95-37f1-4cb...|\n",
      "|              0|0.14600999999999997|       0.0124|           0.0126|           1.5|   175.3686|              0.0158|                0|                7.85|                0.1858|                  0.0|            0.148365|           0.7645|      90.0|                        4.0|Prima Tob Platino...|Stainless Steel|1.111111111E49|                DXF|3cb9a027-3b3e-4f3...|8abe3f95-37f1-4cb...|\n",
      "|              0|           29.93048|       1.9064|            1.908|           2.0|  1609.3363|              1.9269|                0|                7.85|               30.2526|                  0.0|  29.955599999999997|           7.2981| 1197.3363|                        1.0|Prima Tob Platino...|Stainless Steel|1.111111111E49|                DXF|3cb9a027-3b3e-4f3...|8abe3f95-37f1-4cb...|\n",
      "|              0|            3.33939|       0.2127|           0.2127|           2.0|   468.3363|              0.2193|                0|                7.85|                3.4436|                  0.0|             3.33939|           1.7891|  468.3363|                        3.0|Prima Tob Platino...|Stainless Steel|1.111111111E49|                DXF|3cb9a027-3b3e-4f3...|8abe3f95-37f1-4cb...|\n",
      "|              0|            3.33939|       0.2127|           0.2127|           2.0|   468.3363|              0.2193|                0|                7.85|                3.4436|                  0.0|             3.33939|           1.7891|  468.3363|                        3.0|Prima Tob Platino...|Stainless Steel|1.111111111E49|                DXF|3cb9a027-3b3e-4f3...|8abe3f95-37f1-4cb...|\n",
      "|              0|0.16641999999999998|       0.0106|           0.0106|           2.0|      149.0|              0.0135|                0|                7.85|                0.2127|                  0.0| 0.16641999999999998|            0.445|   90.9244|                       38.0|Prima Tob Platino...|Stainless Steel|1.111111111E49|                DXF|3cb9a027-3b3e-4f3...|8abe3f95-37f1-4cb...|\n",
      "|              0|            8.21581|       0.5233|           0.5237|           2.0|   424.1681|              0.5341|                0|                7.85|                8.3859|                  0.0|             8.22209|           3.7688| 1259.2522|                        2.0|Prima Tob Platino...|Stainless Steel|1.111111111E49|                DXF|3cb9a027-3b3e-4f3...|8abe3f95-37f1-4cb...|\n",
      "+---------------+-------------------+-------------+-----------------+--------------+-----------+--------------------+-----------------+--------------------+----------------------+---------------------+--------------------+-----------------+----------+---------------------------+--------------------+---------------+--------------+-------------------+--------------------+--------------------+\n",
      "only showing top 20 rows\n",
      "\n"
     ]
    },
    {
     "name": "stderr",
     "output_type": "stream",
     "text": [
      "\r",
      "                                                                                \r"
     ]
    }
   ],
   "source": [
    "spark.sql(\"SELECT * FROM default.cr_table_demo_delta\").show()"
   ]
  },
  {
   "cell_type": "code",
   "execution_count": null,
   "id": "c35ff53b",
   "metadata": {
    "pycharm": {
     "name": "#%%\n"
    }
   },
   "outputs": [],
   "source": [
    "spark.stop()"
   ]
  },
  {
   "cell_type": "code",
   "execution_count": null,
   "id": "e31575cb",
   "metadata": {},
   "outputs": [],
   "source": []
  }
 ],
 "metadata": {
  "kernelspec": {
   "display_name": "Python 3 (ipykernel)",
   "language": "python",
   "name": "python3"
  },
  "language_info": {
   "codemirror_mode": {
    "name": "ipython",
    "version": 3
   },
   "file_extension": ".py",
   "mimetype": "text/x-python",
   "name": "python",
   "nbconvert_exporter": "python",
   "pygments_lexer": "ipython3",
   "version": "3.8.10"
  }
 },
 "nbformat": 4,
 "nbformat_minor": 5
}
